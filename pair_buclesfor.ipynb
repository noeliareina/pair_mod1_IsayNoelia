{
 "cells": [
  {
   "cell_type": "markdown",
   "metadata": {},
   "source": [
    "\n",
    "1. Imprimir los números del 1 al 5 utilizando un bucle for\n",
    "\n",
    "- Descripción: Utiliza un bucle for para imprimir los números del 1 al 5 (incluido) en orden ascendente."
   ]
  },
  {
   "cell_type": "code",
   "execution_count": 21,
   "metadata": {},
   "outputs": [
    {
     "ename": "IndentationError",
     "evalue": "expected an indented block after 'for' statement on line 6 (3941861013.py, line 8)",
     "output_type": "error",
     "traceback": [
      "\u001b[1;36m  Cell \u001b[1;32mIn[21], line 8\u001b[1;36m\u001b[0m\n\u001b[1;33m    lista_numeros.sorted()\u001b[0m\n\u001b[1;37m    ^\u001b[0m\n\u001b[1;31mIndentationError\u001b[0m\u001b[1;31m:\u001b[0m expected an indented block after 'for' statement on line 6\n"
     ]
    }
   ],
   "source": [
    "numeros = range(1, 6)\n",
    "print(list(numeros))\n",
    "lista_numeros = list(numeros)\n",
    "\n",
    "ascendente = []\n",
    "\n",
    "for n in lista_numeros:\n",
    "\n",
    "lista_numeros.sorted()\n"
   ]
  },
  {
   "cell_type": "markdown",
   "metadata": {},
   "source": [
    "\n",
    "2. Calcular la suma de los primeros 10 números naturales utilizando un bucle for\n",
    "\n",
    "- Descripción: Utiliza un bucle for para calcular la suma de los primeros 10 números naturales (1 + 2 + 3 + ... + 10)."
   ]
  },
  {
   "cell_type": "code",
   "execution_count": 13,
   "metadata": {},
   "outputs": [
    {
     "name": "stdout",
     "output_type": "stream",
     "text": [
      "1\n",
      "3\n",
      "6\n",
      "10\n",
      "15\n",
      "21\n",
      "28\n",
      "36\n",
      "45\n",
      "55\n",
      "------\n",
      "<class 'int'>\n",
      "55\n"
     ]
    }
   ],
   "source": [
    "numeros1=range(1,11)\n",
    "listanueva=list(numeros1)\n",
    "suma=0\n",
    "for i in numeros1:\n",
    "    suma+=i\n",
    "    print(suma)\n",
    "suma_total = suma \n",
    "print(\"------\")\n",
    "\n",
    "print(type(suma))\n",
    "print(suma_total)"
   ]
  },
  {
   "cell_type": "code",
   "execution_count": 16,
   "metadata": {},
   "outputs": [
    {
     "name": "stdout",
     "output_type": "stream",
     "text": [
      "55\n"
     ]
    }
   ],
   "source": [
    "suma=0\n",
    "for i in range(1,11):\n",
    "    suma+=i\n",
    "print(suma)"
   ]
  },
  {
   "cell_type": "markdown",
   "metadata": {},
   "source": [
    "3.  Calcular el producto de los elementos de una lista\n",
    "\n",
    "Descripción: Dada una lista de números, utiliza un bucle for para calcular el producto de todos los elementos."
   ]
  },
  {
   "cell_type": "code",
   "execution_count": 15,
   "metadata": {},
   "outputs": [
    {
     "name": "stdout",
     "output_type": "stream",
     "text": [
      "60\n"
     ]
    }
   ],
   "source": [
    "Lista3=[2,5,6]\n",
    "producto=1 # para hacer multiplicaciones, el contador tiene que ser igual a 1 \n",
    "\n",
    "for i in Lista3:\n",
    "    producto=producto*i # podemos poner también --> producto*=i\n",
    "print(producto)\n"
   ]
  },
  {
   "cell_type": "markdown",
   "metadata": {},
   "source": [
    "4.Imprimir los caracteres de una cadena de texto\n",
    "\n",
    "Descripción: Dada una cadena de texto, utiliza un bucle for para imprimir cada carácter en una línea separada.\n"
   ]
  },
  {
   "cell_type": "code",
   "execution_count": 17,
   "metadata": {},
   "outputs": [
    {
     "name": "stdout",
     "output_type": "stream",
     "text": [
      "H\n",
      "o\n",
      "y\n",
      " \n",
      "e\n",
      "s\n",
      " \n",
      "d\n",
      "i\n",
      "a\n",
      " \n",
      "7\n"
     ]
    }
   ],
   "source": [
    "texto=\"Hoy es dia 7\"\n",
    "\n",
    "for x in texto:\n",
    "    print(x)\n"
   ]
  },
  {
   "cell_type": "markdown",
   "metadata": {},
   "source": [
    "5.-Imprimir los números pares del 1 al 100 utilizando un bucle for\n",
    "\n",
    "Descripción: Utiliza un bucle for para imprimir los números pares del 1 al 100 en orden ascendente."
   ]
  },
  {
   "cell_type": "code",
   "execution_count": 20,
   "metadata": {},
   "outputs": [
    {
     "name": "stdout",
     "output_type": "stream",
     "text": [
      "[2, 4, 6, 8, 10, 12, 14, 16, 18, 20, 22, 24, 26, 28, 30, 32, 34, 36, 38, 40, 42, 44, 46, 48, 50, 52, 54, 56, 58, 60, 62, 64, 66, 68, 70, 72, 74, 76, 78, 80, 82, 84, 86, 88, 90, 92, 94, 96, 98, 100]\n"
     ]
    }
   ],
   "source": [
    "num_asc=[]\n",
    "for m in range(1,101):\n",
    "    if m%2 ==0:\n",
    "        num_asc.append(m)\n",
    "print(num_asc)"
   ]
  },
  {
   "cell_type": "markdown",
   "metadata": {},
   "source": [
    "\n",
    "6.-Imprimir los números primos del 1 al 50 utilizando un bucle for\n",
    "\n",
    "Descripción: Utiliza un bucle for para imprimir los números primos del 1 al 50 en orden ascendente.\n",
    "\n",
    "NOTA: Según la Wikipedia, un número primo es un número natural mayor que 1 que no tiene divisores positivos más que 1 y él mismo.\n",
    "-mayor que 1\n",
    "-%1==0 y %(z)==0"
   ]
  },
  {
   "cell_type": "code",
   "execution_count": 25,
   "metadata": {},
   "outputs": [
    {
     "name": "stdout",
     "output_type": "stream",
     "text": [
      "[2, 3, 4, 5, 6, 7, 8, 9, 10, 11, 12, 13, 14, 15, 16, 17, 18, 19, 20, 21, 22, 23, 24, 25, 26, 27, 28, 29, 30, 31, 32, 33, 34, 35, 36, 37, 38, 39, 40, 41, 42, 43, 44, 45, 46, 47, 48, 49, 50]\n"
     ]
    }
   ],
   "source": [
    "primos=[]\n",
    "\n",
    "for z in range(2,51):\n",
    "    if z%1==0 and z%z ==0: #MAL, nos falta meter la condicion que no tiene divisores positivos\n",
    "        primos.append(z)\n",
    "print(primos)"
   ]
  },
  {
   "cell_type": "code",
   "execution_count": 24,
   "metadata": {},
   "outputs": [
    {
     "name": "stdout",
     "output_type": "stream",
     "text": [
      "[2, 3, 5, 7, 11, 13, 17, 19, 23, 29, 31, 37, 41, 43, 47]\n"
     ]
    }
   ],
   "source": [
    "# RESULTADO CHAT GPT\n",
    "primos = []\n",
    "\n",
    "for z in range(2, 51):  # Comenzamos desde 2, ya que 1 no es primo\n",
    "    es_primo = True\n",
    "    for i in range(2, int(z ** 0.5) + 1):  # Solo comprobamos divisores hasta la raíz cuadrada de z\n",
    "        if z % i == 0:  # Si z es divisible por i, no es primo\n",
    "            es_primo = False\n",
    "            break\n",
    "    if es_primo:  # Si no se encontró ningún divisor, es primo\n",
    "        primos.append(z)\n",
    "\n",
    "print(primos)"
   ]
  },
  {
   "cell_type": "markdown",
   "metadata": {},
   "source": [
    "7.-Calcular el factorial de un número utilizando un bucle for\n",
    "\n",
    "Descripción: Dado un número entero positivo, calcula su factorial utilizando un bucle for."
   ]
  },
  {
   "cell_type": "code",
   "execution_count": 26,
   "metadata": {},
   "outputs": [
    {
     "ename": "SyntaxError",
     "evalue": "invalid syntax (992583946.py, line 1)",
     "output_type": "error",
     "traceback": [
      "\u001b[1;36m  Cell \u001b[1;32mIn[26], line 1\u001b[1;36m\u001b[0m\n\u001b[1;33m    5!\u001b[0m\n\u001b[1;37m     ^\u001b[0m\n\u001b[1;31mSyntaxError\u001b[0m\u001b[1;31m:\u001b[0m invalid syntax\n"
     ]
    }
   ],
   "source": [
    "# 😂"
   ]
  },
  {
   "cell_type": "markdown",
   "metadata": {},
   "source": []
  }
 ],
 "metadata": {
  "kernelspec": {
   "display_name": "Python 3",
   "language": "python",
   "name": "python3"
  },
  "language_info": {
   "codemirror_mode": {
    "name": "ipython",
    "version": 3
   },
   "file_extension": ".py",
   "mimetype": "text/x-python",
   "name": "python",
   "nbconvert_exporter": "python",
   "pygments_lexer": "ipython3",
   "version": "3.12.7"
  }
 },
 "nbformat": 4,
 "nbformat_minor": 2
}
