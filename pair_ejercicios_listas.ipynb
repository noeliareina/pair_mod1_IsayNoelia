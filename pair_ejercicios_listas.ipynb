{
 "cells": [
  {
   "cell_type": "markdown",
   "metadata": {},
   "source": [
    "\n",
    "Duplicar elementos de una lista\n",
    "\n",
    "Descripción: Dada una lista de números, duplica cada elemento en la lista.\n"
   ]
  },
  {
   "cell_type": "code",
   "execution_count": 4,
   "metadata": {},
   "outputs": [
    {
     "name": "stdout",
     "output_type": "stream",
     "text": [
      "[2, 4, 6, 8]\n"
     ]
    }
   ],
   "source": [
    "lista = [2, 4, 6, 8]\n",
    "print(lista)"
   ]
  },
  {
   "cell_type": "code",
   "execution_count": 6,
   "metadata": {},
   "outputs": [
    {
     "name": "stdout",
     "output_type": "stream",
     "text": [
      "[2, 4, 6, 8, 2, 4, 6, 8]\n"
     ]
    }
   ],
   "source": [
    "lista2=lista*2\n",
    "print(lista2)"
   ]
  },
  {
   "cell_type": "code",
   "execution_count": 7,
   "metadata": {},
   "outputs": [
    {
     "name": "stdout",
     "output_type": "stream",
     "text": [
      "[1, 2, 3, 4, 5, 6]\n"
     ]
    }
   ],
   "source": [
    "#Descripción: Dadas dos listas, crea una nueva lista que contenga todos los elementos de ambas listas. Ejemplo:\n",
    "# dadas las siguientes listas el output esperado es:\n",
    "lista1 = [1, 2, 3]\n",
    "lista3 = [4, 5, 6]\n",
    "\n",
    "nueva_lista = lista1 + lista3\n",
    "print(nueva_lista)\n"
   ]
  },
  {
   "cell_type": "code",
   "execution_count": 14,
   "metadata": {},
   "outputs": [
    {
     "name": "stdout",
     "output_type": "stream",
     "text": [
      "21\n"
     ]
    }
   ],
   "source": [
    "\n",
    "# 3. Calcular la suma de una lista de números\n",
    "\n",
    "#Descripción: Dada una lista de números, calcula la suma de todos los elementos.\n",
    "\n",
    "listasuma = sum(nueva_lista)\n",
    "print(listasuma)"
   ]
  },
  {
   "cell_type": "code",
   "execution_count": 16,
   "metadata": {},
   "outputs": [
    {
     "name": "stdout",
     "output_type": "stream",
     "text": [
      "6\n"
     ]
    }
   ],
   "source": [
    "# 4. Encontrar el valor máximo en una lista\n",
    "\n",
    "#Descripción: Dada una lista de números, encuentra el valor máximo.\n",
    "\n",
    "valormax = max(nueva_lista)\n",
    "print(valormax)"
   ]
  },
  {
   "cell_type": "code",
   "execution_count": 17,
   "metadata": {},
   "outputs": [
    {
     "name": "stdout",
     "output_type": "stream",
     "text": [
      "6\n"
     ]
    }
   ],
   "source": [
    "#Calcular la longitud de una lista\n",
    "\n",
    "#Descripción: Dada una lista, calcula la cantidad de elementos que contiene.\n",
    "\n",
    "valorlon = len(nueva_lista)\n",
    "print(valorlon)"
   ]
  },
  {
   "cell_type": "code",
   "execution_count": 20,
   "metadata": {},
   "outputs": [
    {
     "name": "stdout",
     "output_type": "stream",
     "text": [
      "¿En que posicion se encuentra el indice 4? 3\n"
     ]
    }
   ],
   "source": [
    "#Encontrar el índice de un elemento en una lista, del elemento 4\n",
    "\n",
    "#Descripción: Dada una lista y un valor objetivo, encuentra el índice del primer elemento que coincida con el valor objetivo.\n",
    "\n",
    "print(\"¿En que posicion se encuentra el indice 4?\", nueva_lista.index(4))"
   ]
  },
  {
   "cell_type": "code",
   "execution_count": 24,
   "metadata": {},
   "outputs": [],
   "source": [
    "#7. Obtener una sublista de una lista\n",
    "\n",
    "#Descripción: Dada una lista, crea una nueva lista que contenga los elementos desde el índice 2 hasta el índice 5 (sin incluirlo).\n",
    "nueva_lista.count(4)\n",
    "flores=[3,4,6,7,7,8]"
   ]
  },
  {
   "cell_type": "code",
   "execution_count": 25,
   "metadata": {},
   "outputs": [
    {
     "data": {
      "text/plain": [
       "2"
      ]
     },
     "execution_count": 25,
     "metadata": {},
     "output_type": "execute_result"
    }
   ],
   "source": [
    "flores.count(7)\n",
    "\n"
   ]
  },
  {
   "cell_type": "code",
   "execution_count": 27,
   "metadata": {},
   "outputs": [
    {
     "name": "stdout",
     "output_type": "stream",
     "text": [
      "[6, 7, 7]\n"
     ]
    }
   ],
   "source": [
    "#8. Obtener una sublista de una lista\n",
    "\n",
    "#Descripción: Dada una lista, crea una nueva lista que contenga los elementos desde el índice 2 hasta el índice 5 (sin incluirlo).\n",
    "#INDEXACIÓN: nombre_lista[star:stop:step]\n",
    "sublista=flores[2:5]\n",
    "print(sublista)"
   ]
  },
  {
   "cell_type": "code",
   "execution_count": 28,
   "metadata": {},
   "outputs": [
    {
     "data": {
      "text/plain": [
       "8"
      ]
     },
     "execution_count": 28,
     "metadata": {},
     "output_type": "execute_result"
    }
   ],
   "source": [
    "#9. Obtener el último elemento de una lista. Descripción: Dada una lista, obtén el último elemento.\n",
    "flores[-1]"
   ]
  },
  {
   "cell_type": "code",
   "execution_count": 30,
   "metadata": {},
   "outputs": [
    {
     "data": {
      "text/plain": [
       "3"
      ]
     },
     "execution_count": 30,
     "metadata": {},
     "output_type": "execute_result"
    }
   ],
   "source": [
    "#10. Obtener el primer elemento de una lista. Descripción: Dada una lista, obtén el último elemento.\n",
    "flores[0]"
   ]
  },
  {
   "cell_type": "code",
   "execution_count": 29,
   "metadata": {},
   "outputs": [
    {
     "name": "stdout",
     "output_type": "stream",
     "text": [
      "[4, 6]\n"
     ]
    }
   ],
   "source": [
    "#11. Obtener una sublista de una lista. Descripción: Dada una lista, obtén una sublista que contenga los elementos desde el índice 1 hasta el índice 3 (sin incluirlo).\n",
    "sublista2=flores[1:3]\n",
    "print(sublista2)"
   ]
  },
  {
   "cell_type": "code",
   "execution_count": 31,
   "metadata": {},
   "outputs": [
    {
     "name": "stdout",
     "output_type": "stream",
     "text": [
      "[3, 56, 6, 7, 7, 8]\n"
     ]
    }
   ],
   "source": [
    "#12. Reemplazar un elemento en una lista\n",
    "#Descripción: Dada una lista, reemplaza el segundo elemento con un nuevo valor.\n",
    "flores[1]=56\n",
    "print(flores)"
   ]
  },
  {
   "cell_type": "code",
   "execution_count": 40,
   "metadata": {},
   "outputs": [
    {
     "name": "stdout",
     "output_type": "stream",
     "text": [
      "[8, 7, 7, 6, 56, 3]\n"
     ]
    }
   ],
   "source": [
    "#13. Obtener una lista inversa. Descripción: Dada una lista, obtén una nueva lista que contenga los elementos en orden inverso.\n",
    "lista_invers = flores[::-1]\n",
    "print(lista_invers)"
   ]
  },
  {
   "cell_type": "code",
   "execution_count": 43,
   "metadata": {},
   "outputs": [
    {
     "data": {
      "text/plain": [
       "[3, 6, 7, 7, 8, 56]"
      ]
     },
     "execution_count": 43,
     "metadata": {},
     "output_type": "execute_result"
    }
   ],
   "source": [
    "#14. Ordenar una lista en orden ascendente. Descripción: Dada una lista de números, ordénala en orden ascendente.\n",
    "sorted(flores)\n",
    "#sorted(flores,reverse=True)"
   ]
  },
  {
   "cell_type": "code",
   "execution_count": 44,
   "metadata": {},
   "outputs": [
    {
     "name": "stdout",
     "output_type": "stream",
     "text": [
      "[3, 56, 6, 7, 7, 8]\n"
     ]
    }
   ],
   "source": [
    "print(flores)"
   ]
  },
  {
   "cell_type": "code",
   "execution_count": 47,
   "metadata": {},
   "outputs": [
    {
     "name": "stdout",
     "output_type": "stream",
     "text": [
      "[3, 6, 7]\n"
     ]
    }
   ],
   "source": [
    "#BONUS\n",
    "\n",
    "#Obtener elementos pares de una lista\n",
    "\n",
    "#Descripción: Dada una lista, obtén una nueva lista que contenga solo los elementos en posiciones pares.\n",
    "\n",
    "flores_pares = flores[::2]\n",
    "print(flores_pares)"
   ]
  },
  {
   "cell_type": "code",
   "execution_count": 48,
   "metadata": {},
   "outputs": [
    {
     "name": "stdout",
     "output_type": "stream",
     "text": [
      "[3, 7]\n"
     ]
    }
   ],
   "source": [
    "#16. Obtener una sublista saltando elementos\n",
    "\n",
    "#Descripción: Dada una lista, obtén una sublista que contenga los elementos saltando de 3 en 3.\n",
    "flores_3=flores[::3]\n",
    "print(flores_3)"
   ]
  },
  {
   "cell_type": "code",
   "execution_count": 51,
   "metadata": {},
   "outputs": [
    {
     "data": {
      "text/plain": [
       "8"
      ]
     },
     "execution_count": 51,
     "metadata": {},
     "output_type": "execute_result"
    }
   ],
   "source": [
    "#17. Encontrar el segundo valor máximo en una lista\n",
    "\n",
    "#Descripción: Dada una lista de números, encuentra el segundo valor máximo.\n",
    "valor2 = sorted(flores,reverse=True)\n",
    "valor2[1]\n"
   ]
  },
  {
   "cell_type": "markdown",
   "metadata": {},
   "source": []
  }
 ],
 "metadata": {
  "kernelspec": {
   "display_name": "base",
   "language": "python",
   "name": "python3"
  },
  "language_info": {
   "codemirror_mode": {
    "name": "ipython",
    "version": 3
   },
   "file_extension": ".py",
   "mimetype": "text/x-python",
   "name": "python",
   "nbconvert_exporter": "python",
   "pygments_lexer": "ipython3",
   "version": "3.12.7"
  }
 },
 "nbformat": 4,
 "nbformat_minor": 2
}
