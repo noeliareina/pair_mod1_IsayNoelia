{
 "cells": [
  {
   "cell_type": "markdown",
   "metadata": {},
   "source": [
    "EJERCICIOS DICCIONARIOS"
   ]
  },
  {
   "cell_type": "code",
   "execution_count": 1,
   "metadata": {},
   "outputs": [
    {
     "name": "stdout",
     "output_type": "stream",
     "text": [
      "{}\n"
     ]
    }
   ],
   "source": [
    "\n",
    "#1 Crear un diccionario vacío\n",
    "\n",
    "#Descripción: Crea un diccionario vacío sin ningún par clave-valor.\n",
    "\n",
    "diccionario = {}\n",
    "print(diccionario)"
   ]
  },
  {
   "cell_type": "code",
   "execution_count": 1,
   "metadata": {},
   "outputs": [],
   "source": [
    "#2 Crear un diccionario con elementos\n",
    "\n",
    "#Descripción: Crea un diccionario con pares clave-valor predefinidos. Definir el diccionario con las claves y valores que querais. \n",
    "#NOTA El diccionario debe tener al menos 5 pares de clave:valor.\n",
    "\n",
    "notas = {\"Juan\":5,\"Rosa\":6 ,\"Maria\":9,\"Sergio\":2,\"Pablo\":7}"
   ]
  },
  {
   "cell_type": "code",
   "execution_count": 2,
   "metadata": {},
   "outputs": [
    {
     "name": "stdout",
     "output_type": "stream",
     "text": [
      "{'Juan': 5, 'Rosa': 6, 'Maria': 9, 'Sergio': 2, 'Pablo': 7}\n"
     ]
    }
   ],
   "source": [
    "print(notas)"
   ]
  },
  {
   "cell_type": "code",
   "execution_count": 3,
   "metadata": {},
   "outputs": [
    {
     "data": {
      "text/plain": [
       "dict"
      ]
     },
     "execution_count": 3,
     "metadata": {},
     "output_type": "execute_result"
    }
   ],
   "source": [
    "type(notas)"
   ]
  },
  {
   "cell_type": "code",
   "execution_count": null,
   "metadata": {},
   "outputs": [],
   "source": [
    "# Acceder al valor de una clave en un diccionario\n",
    "\n",
    "\"\"\"Descripción: Usando el diccionario creado en el paso anterior,\n",
    " obtén el valor correspondiente a una clave específica que indique el usuario\n",
    "   (debereis usar la función input() para preguntar al usuario).\"\"\""
   ]
  },
  {
   "cell_type": "code",
   "execution_count": 6,
   "metadata": {},
   "outputs": [],
   "source": [
    "notas_valor=input(\"¿Que nota tiene Sergio\")"
   ]
  }
 ],
 "metadata": {
  "kernelspec": {
   "display_name": "Python 3",
   "language": "python",
   "name": "python3"
  },
  "language_info": {
   "codemirror_mode": {
    "name": "ipython",
    "version": 3
   },
   "file_extension": ".py",
   "mimetype": "text/x-python",
   "name": "python",
   "nbconvert_exporter": "python",
   "pygments_lexer": "ipython3",
   "version": "3.12.7"
  }
 },
 "nbformat": 4,
 "nbformat_minor": 2
}
