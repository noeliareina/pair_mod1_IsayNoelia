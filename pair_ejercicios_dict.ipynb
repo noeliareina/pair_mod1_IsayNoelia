{
 "cells": [
  {
   "cell_type": "markdown",
   "metadata": {},
   "source": [
    "EJERCICIOS DICCIONARIOS"
   ]
  },
  {
   "cell_type": "code",
   "execution_count": 3,
   "metadata": {},
   "outputs": [
    {
     "name": "stdout",
     "output_type": "stream",
     "text": [
      "{}\n"
     ]
    }
   ],
   "source": [
    "\n",
    "#1 Crear un diccionario vacío\n",
    "\n",
    "#Descripción: Crea un diccionario vacío sin ningún par clave-valor.\n",
    "\n",
    "diccionario = {}\n",
    "print(diccionario)"
   ]
  },
  {
   "cell_type": "code",
   "execution_count": 4,
   "metadata": {},
   "outputs": [],
   "source": [
    "#2 Crear un diccionario con elementos\n",
    "\n",
    "#Descripción: Crea un diccionario con pares clave-valor predefinidos. Definir el diccionario con las claves y valores que querais. \n",
    "#NOTA El diccionario debe tener al menos 5 pares de clave:valor.\n",
    "\n",
    "notas = {\"Juan\":5,\"Rosa\":6 ,\"Maria\":9,\"Sergio\":2,\"Pablo\":7}"
   ]
  },
  {
   "cell_type": "code",
   "execution_count": 5,
   "metadata": {},
   "outputs": [
    {
     "name": "stdout",
     "output_type": "stream",
     "text": [
      "{'Juan': 5, 'Rosa': 6, 'Maria': 9, 'Sergio': 2, 'Pablo': 7}\n"
     ]
    }
   ],
   "source": [
    "print(notas)"
   ]
  },
  {
   "cell_type": "code",
   "execution_count": 6,
   "metadata": {},
   "outputs": [
    {
     "data": {
      "text/plain": [
       "dict"
      ]
     },
     "execution_count": 6,
     "metadata": {},
     "output_type": "execute_result"
    }
   ],
   "source": [
    "type(notas)"
   ]
  },
  {
   "cell_type": "code",
   "execution_count": 7,
   "metadata": {},
   "outputs": [
    {
     "data": {
      "text/plain": [
       "'Descripción: Usando el diccionario creado en el paso anterior,\\n obtén el valor correspondiente a una clave específica que indique el usuario\\n   (debereis usar la función input() para preguntar al usuario).'"
      ]
     },
     "execution_count": 7,
     "metadata": {},
     "output_type": "execute_result"
    }
   ],
   "source": [
    "# Acceder al valor de una clave en un diccionario\n",
    "\n",
    "\"\"\"Descripción: Usando el diccionario creado en el paso anterior,\n",
    " obtén el valor correspondiente a una clave específica que indique el usuario\n",
    "   (debereis usar la función input() para preguntar al usuario).\"\"\""
   ]
  },
  {
   "cell_type": "code",
   "execution_count": 8,
   "metadata": {},
   "outputs": [],
   "source": [
    "notas_valor=input(\"¿Que nota tiene Sergio\")"
   ]
  },
  {
   "cell_type": "code",
   "execution_count": 32,
   "metadata": {},
   "outputs": [
    {
     "name": "stdout",
     "output_type": "stream",
     "text": [
      "La nota de Rosa es: 6\n"
     ]
    },
    {
     "data": {
      "text/plain": [
       "int"
      ]
     },
     "execution_count": 32,
     "metadata": {},
     "output_type": "execute_result"
    }
   ],
   "source": [
    "#3 Acceder al valor de una clave en un diccionario\n",
    "\n",
    "\"\"\"Descripción: Usando el diccionario creado en el paso anterior,\n",
    " obtén el valor correspondiente a una clave específica que indique el usuario\n",
    "   (debereis usar la función input() para preguntar al usuario).\"\"\"\n",
    "\n",
    "# SOLICITAR AL USUARIO EL NOMBRE DDEL ALUMNO\n",
    "nombre = input(\"Ingrese el nombre del alumno para conocer su nota: \")\n",
    "\n",
    "# OBTENER LA NOTA CORRESPONDIENTE, MANEJANDO EL CASO EN QUE EL NOMBRE NO ESTÉ EN EL DICCIONARIO\n",
    "nota = int(notas.get(nombre, \"Alumno no encontrado\"))\n",
    "\n",
    "# IMPRIMIR EL RESULTADO\n",
    "print(f\"La nota de {nombre} es: {nota}\")\n",
    "\n",
    "## correccion clase\n",
    "type(nota)\n",
    "\n"
   ]
  },
  {
   "cell_type": "code",
   "execution_count": 10,
   "metadata": {},
   "outputs": [
    {
     "name": "stdout",
     "output_type": "stream",
     "text": [
      "Las notas actualizadas son:  {'Juan': 5, 'Rosa': 6, 'Maria': 9, 'Sergio': 2, 'Pablo': 7, 'Pepe': 3}\n"
     ]
    }
   ],
   "source": [
    "# 4 Agregar un nuevo par clave-valor a un diccionario !!!!!!!!!!!!!!!!!!!!\n",
    "#Descripción: Usando el diccionario creado en el ejercicio 2, \n",
    "# agrega un nuevo par clave-valor.\n",
    "notas2 = {\"Juan\":5,\"Rosa\":6 ,\"Maria\":9,\"Sergio\":2,\"Pablo\":7, \"Pepe\": 3}\n",
    "notas.update(notas2)\n",
    "print(\"Las notas actualizadas son: \", notas)\n",
    "\n",
    "##otro modo\n"
   ]
  },
  {
   "cell_type": "code",
   "execution_count": 11,
   "metadata": {},
   "outputs": [
    {
     "name": "stdout",
     "output_type": "stream",
     "text": [
      "Nota actualizada correctamente.\n",
      "Diccionario actualizado: {'Juan': 5, 'Rosa': 6, 'Maria': 9, 'Sergio': 2, 'Pablo': 4}\n"
     ]
    }
   ],
   "source": [
    "# 5. Actualizar el valor de una clave en un diccionario\n",
    "# Descripción: Usando el diccionario creado en el ejercicio 2, \n",
    "# actualiza el valor correspondiente a una clave existente. \n",
    " \n",
    "#Diccionario con nombres y calificaciones\n",
    "notas = {\"Juan\": 5, \"Rosa\": 6, \"Maria\": 9, \"Sergio\": 2, \"Pablo\": 7}\n",
    "\n",
    "# Solicitar al usuario el nombre del alumno cuya nota desea actualizar\n",
    "nombre = input(\"Ingrese el nombre del alumno cuya nota desea actualizar: \")\n",
    "\n",
    "# Verificar si el alumno está en el diccionario\n",
    "if nombre in notas:\n",
    "    nueva_nota = int(input(f\"Ingrese la nueva nota para {nombre}: \"))  # Convertir a entero\n",
    "    notas[nombre] = nueva_nota  # Actualizar la nota en el diccionario\n",
    "    print(\"Nota actualizada correctamente.\")\n",
    "else:  #SI NO,\n",
    "    print(\"Alumno no encontrado.\")  # Mensaje si el alumno no está en el diccionario\n",
    "\n",
    "# Imprimir el diccionario actualizado\n",
    "print(\"Diccionario actualizado:\", notas)"
   ]
  },
  {
   "cell_type": "markdown",
   "metadata": {},
   "source": [
    "OTRA FORMA DE HACER EL EJERCICIO 5"
   ]
  },
  {
   "cell_type": "code",
   "execution_count": 12,
   "metadata": {},
   "outputs": [
    {
     "name": "stdout",
     "output_type": "stream",
     "text": [
      "Nota actualizada.\n",
      "Diccionario actualizado: {'Juan': 5, 'Rosa': 6, 'Maria': 10, 'Sergio': 2, 'Pablo': 3}\n"
     ]
    }
   ],
   "source": [
    "notas = {'Juan': 5, 'Rosa': 6, 'Maria': 10, 'Sergio': 2, 'Pablo': 7}\n",
    "#Primero hay que hacer que se solicite el nombre del alumno cuya nota se desea actualizar:\n",
    "nombre = input(\"Ingrese el nombre del alumno al que va a cambiar la nota: \")\n",
    "#Verificamos si ese alumno está o no en el diccionario: \n",
    "# ¿CÓMO? USANDO EL MÉTODO .get(clave, valor_por_defecto) busca una clave en el diccionario.\n",
    "#Si la clave existe, devuelve su valor.\n",
    "#Si la clave no existe, devuelve un valor por defecto (opcional) sin modificar el diccionario.\n",
    "if notas.get(nombre) is not None:\n",
    "    nueva_nota = int(input(f\"Ingrese la nueva nota para {nombre}: \"))\n",
    "    notas.update({nombre: nueva_nota}) #ACTUALIZA EL VALOR CON .update()\n",
    "    print(\"Nota actualizada.\")\n",
    "    print(\"Diccionario actualizado:\", notas)\n",
    "else:\n",
    "    print(\"Alumno no encontrado.\")\n",
    "    print(\"Diccionario actualizado:\", notas)"
   ]
  },
  {
   "cell_type": "code",
   "execution_count": 17,
   "metadata": {},
   "outputs": [
    {
     "name": "stdout",
     "output_type": "stream",
     "text": [
      "Eliminamos una clave-valor del diccionario: {'Rosa': 6, 'Maria': 10, 'Sergio': 2}\n"
     ]
    }
   ],
   "source": [
    "# Ejercicio 6\n",
    "    # Eliminar un par clave-valor de un diccionario\n",
    "    # Descripción: Usando el diccionario creado en el ejercicio 2, \n",
    "    # elimina un par clave-valor específico que indique el usuario (debereis usar la función input() para preguntar al usuario).\n",
    "nombre = input(\"Ingrese el nombre del usuario que quieres eliminar del diccionario: \")\n",
    "\n",
    "print(\"Eliminamos una clave-valor del diccionario:\", notas.pop (nombre,notas))\n",
    "nueva_nota1 = notas\n",
    "\n"
   ]
  },
  {
   "cell_type": "code",
   "execution_count": null,
   "metadata": {},
   "outputs": [],
   "source": []
  }
 ],
 "metadata": {
  "kernelspec": {
   "display_name": "base",
   "language": "python",
   "name": "python3"
  },
  "language_info": {
   "codemirror_mode": {
    "name": "ipython",
    "version": 3
   },
   "file_extension": ".py",
   "mimetype": "text/x-python",
   "name": "python",
   "nbconvert_exporter": "python",
   "pygments_lexer": "ipython3",
   "version": "3.12.7"
  }
 },
 "nbformat": 4,
 "nbformat_minor": 2
}
