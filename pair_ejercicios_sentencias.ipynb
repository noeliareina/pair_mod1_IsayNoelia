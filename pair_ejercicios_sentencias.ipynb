{
 "cells": [
  {
   "cell_type": "code",
   "execution_count": null,
   "metadata": {},
   "outputs": [],
   "source": [
    "1# Verificar si un número es positivo, negativo o cero\n",
    "\n",
    "Descripción: Dado un número, verifica si es positivo, negativo o cero."
   ]
  },
  {
   "cell_type": "code",
   "execution_count": 4,
   "metadata": {},
   "outputs": [
    {
     "name": "stdout",
     "output_type": "stream",
     "text": [
      "El número es positivo\n"
     ]
    }
   ],
   "source": [
    "num=7\n",
    "if num >0:\n",
    "    print(\"El número es positivo\")\n",
    "elif num == 0:\n",
    "    print(\"El número es cero\")\n",
    "elif num <0:\n",
    "    print(\"El número es negativo\")\n"
   ]
  },
  {
   "cell_type": "markdown",
   "metadata": {},
   "source": [
    "2#Verificar si un número es par o impar\n",
    "\n",
    "Descripción: Dado un número, verifica si es par o impar."
   ]
  },
  {
   "cell_type": "code",
   "execution_count": 7,
   "metadata": {},
   "outputs": [
    {
     "name": "stdout",
     "output_type": "stream",
     "text": [
      "El número es par\n"
     ]
    }
   ],
   "source": [
    "parimpar = 4\n",
    "if parimpar % 2 == 0:\n",
    "    print(\"El número es par\")\n",
    "else:\n",
    "    print(\"El número es impar\")"
   ]
  },
  {
   "cell_type": "markdown",
   "metadata": {},
   "source": [
    "3#Verificar si un estudiante aprobó o suspendió un examen\n",
    "\n",
    "Descripción: Dada la calificación de un estudiante en un examen, verifica si aprobó o suspendió (si la calificación es mayor o igual a 60 se considera aprobado)."
   ]
  },
  {
   "cell_type": "code",
   "execution_count": 9,
   "metadata": {},
   "outputs": [
    {
     "name": "stdout",
     "output_type": "stream",
     "text": [
      "El alumno suspendió el examen\n"
     ]
    }
   ],
   "source": [
    "nota= 23\n",
    "if nota >= 60:\n",
    "    print(\"El alumno aprobó el examen\")\n",
    "elif num < 60:\n",
    "    print(\"El alumno suspendió el examen\")\n"
   ]
  },
  {
   "cell_type": "markdown",
   "metadata": {},
   "source": [
    "4#Calcular el máximo entre dos números\n",
    "\n",
    "Descripción: Dados dos números, encuentra el máximo entre ellos."
   ]
  },
  {
   "cell_type": "code",
   "execution_count": 13,
   "metadata": {},
   "outputs": [
    {
     "name": "stdout",
     "output_type": "stream",
     "text": [
      "El máximo es var2\n"
     ]
    }
   ],
   "source": [
    "var1 = 102\n",
    "var2 = 190\n",
    "if var1 > var2:\n",
    "    print(\"El máximo es var1\")\n",
    "elif var2 > var1:\n",
    "    print(\"El máximo es var2\")"
   ]
  },
  {
   "cell_type": "markdown",
   "metadata": {},
   "source": [
    "5#Verificar si una letra es una vocal o una consonante\n",
    "\n",
    "Descripción: Dada una letra, verifica si es una vocal o una consonante."
   ]
  },
  {
   "cell_type": "code",
   "execution_count": 19,
   "metadata": {},
   "outputs": [
    {
     "name": "stdout",
     "output_type": "stream",
     "text": [
      "x\n",
      "Es una consonante\n"
     ]
    }
   ],
   "source": [
    "vocales =[\"a\",\"e\",\"i\",\"o\",\"u\"]\n",
    "letra = input(\"Escribe una letra: \").lower()  # Convertir a minúscula\n",
    "print(letra)\n",
    "if letra in vocales:\n",
    "    print(\"Es una vocal\")\n",
    "else:\n",
    "    print(\"Es una consonante\")"
   ]
  },
  {
   "cell_type": "markdown",
   "metadata": {},
   "source": [
    "6#Calcular el descuento en una compra según el monto total\n",
    "\n",
    "Descripción: Dado el monto total de una compra, calcula el descuento aplicado según las siguientes condiciones: si el monto es mayor o igual a $100, aplica un descuento del 10%; de lo contrario, no aplica ningún descuento."
   ]
  },
  {
   "cell_type": "code",
   "execution_count": 19,
   "metadata": {},
   "outputs": [
    {
     "name": "stdout",
     "output_type": "stream",
     "text": [
      "Su descuento en la compra es de: 15.0 $\n"
     ]
    }
   ],
   "source": [
    "precio_total = 150\n",
    "if precio_total >= 100:\n",
    "    descuento = precio_total*0.1\n",
    "    print(\"Su descuento en la compra es de:\",descuento,\"$\")\n",
    "else:\n",
    "    print(\"No tiene descuento\")"
   ]
  },
  {
   "cell_type": "markdown",
   "metadata": {},
   "source": [
    "7#Verificar si un año es bisiesto o no\n",
    "\n",
    "Descripción: Dado un año, verifica si es bisiesto o no (un año es bisiesto si es divisible entre 4, excepto aquellos divisibles entre 100 pero no entre 400)."
   ]
  },
  {
   "cell_type": "code",
   "execution_count": 24,
   "metadata": {},
   "outputs": [
    {
     "name": "stdout",
     "output_type": "stream",
     "text": [
      "El año no es bisiesto\n"
     ]
    }
   ],
   "source": [
    "año = 1985\n",
    "if año %4 == 0: #1 condicion: ponemos la condición de que es divisible entre 4, si no lo fuera sigue ejecutando hacia abajo\n",
    "    print(\"El año es bisiesto\")\n",
    "elif año %100 == 0: #2º condicion: pasaría a este, que como sigue siendo una condición para bisiesto lo sigue imprimiendo como bisiesto\n",
    "    print(\"El año es bisiesto\")\n",
    "elif  año %400 !=0: #3º condicion: si llega a este paso, y se confirma que no es divisible entre 400 %400 !=0, devuelve no bisiesto\n",
    "    print(\"El año no es bisiesto\")"
   ]
  },
  {
   "cell_type": "markdown",
   "metadata": {},
   "source": [
    "8#Asignar una categoría a una edad\n",
    "\n",
    "Descripción: Dada una edad, asigna una categoría según las siguientes condiciones: si la edad es menor de 18, la categoría es \"Menor de edad\"; si la edad está entre 18 y 64 (incluyendo ambos), la categoría es \"Adulto\"; de lo contrario, la categoría es \"Adulto mayor\"."
   ]
  },
  {
   "cell_type": "code",
   "execution_count": 27,
   "metadata": {},
   "outputs": [
    {
     "name": "stdout",
     "output_type": "stream",
     "text": [
      "Adulto mayor\n"
     ]
    }
   ],
   "source": [
    "edad= 68\n",
    "if edad <18:\n",
    "    print(\"Menor de edad\")\n",
    "elif edad >= 18 and edad <= 64:\n",
    "    print(\"Adulto\")\n",
    "elif edad >64:\n",
    "    print(\"Adulto mayor\")"
   ]
  },
  {
   "cell_type": "markdown",
   "metadata": {},
   "source": [
    "#9 Verificar si tres números forman un triángulo rectángulo\n",
    "\n",
    "Descripción: Dados tres números, verifica si forman un triángulo rectángulo (si se cumple el teorema de Pitágoras)."
   ]
  },
  {
   "cell_type": "code",
   "execution_count": 33,
   "metadata": {},
   "outputs": [
    {
     "name": "stdout",
     "output_type": "stream",
     "text": [
      "True\n",
      "Es un triángulo rectángulo\n"
     ]
    }
   ],
   "source": [
    "hip = 5\n",
    "cat1 = 4\n",
    "cat2 = 3\n",
    "operacion = hip**2 == cat1**2 + cat2**2\n",
    "print(operacion)\n",
    "if (hip**2 == cat1**2 + cat2**2):\n",
    "    print(\"Es un triángulo rectángulo\")\n",
    "else:\n",
    "    print(\"No es un triángulo rectángulo\")"
   ]
  },
  {
   "cell_type": "code",
   "execution_count": 43,
   "metadata": {},
   "outputs": [
    {
     "name": "stdout",
     "output_type": "stream",
     "text": [
      "False\n",
      "No es un triángulo rectángulo\n"
     ]
    }
   ],
   "source": [
    "#ejemplo para un triángulo no rectángulo, cambiando cat2\n",
    "hip = 5\n",
    "cat1 = 2\n",
    "cat2 = 3\n",
    "operacion = hip**2 == cat1**2 + cat2**2\n",
    "print(operacion)\n",
    "if (operacion):\n",
    "    print(\"Es un triángulo rectángulo\")\n",
    "else:\n",
    "    print(\"No es un triángulo rectángulo\")"
   ]
  },
  {
   "cell_type": "markdown",
   "metadata": {},
   "source": [
    "#10 Asignar una calificación a una puntuación\n",
    "\n",
    "Descripción: Dada una puntuación, asigna una calificación según las siguientes condiciones: si la puntuación es mayor o igual a 90, la calificación es \"A\"; si es mayor o igual a 80, la calificación es \"B\"; si es mayor o igual a 70, la calificación es \"C\"; si es mayor o igual a 60, la calificación es \"D\"; de lo contrario, la calificación es \"F\"."
   ]
  },
  {
   "cell_type": "code",
   "execution_count": 39,
   "metadata": {},
   "outputs": [
    {
     "name": "stdout",
     "output_type": "stream",
     "text": [
      "la calificación es F\n"
     ]
    }
   ],
   "source": [
    "puntuacion = 20\n",
    "if puntuacion >=90:\n",
    "    print(\"la calificación es A\")\n",
    "elif puntuacion >=80:\n",
    "    print(\"la calificación es B\")\n",
    "elif puntuacion >=70:\n",
    "    print(\"la calificación es C\")\n",
    "elif puntuacion >=60:\n",
    "    print(\"la calificación es D\")\n",
    "else:\n",
    "    print(\"la calificación es F\")"
   ]
  },
  {
   "cell_type": "markdown",
   "metadata": {},
   "source": [
    "#11 Calcular el índice de masa corporal (IMC) y categorizarlo\n",
    "\n",
    "Descripción: Dados el peso (en kg) y la altura (en metros) de una persona, calcula su IMC y categorízalo según las siguientes condiciones: si el IMC es menor a 18.5, es \"Bajo peso\"; si está entre 18.5 y 24.9 (inclusive), es \"Peso normal\"; si está entre 25 y 29.9 (inclusive), es \"Sobrepeso\"; de lo contrario, es \"Obesidad\"."
   ]
  },
  {
   "cell_type": "code",
   "execution_count": 7,
   "metadata": {},
   "outputs": [
    {
     "name": "stdout",
     "output_type": "stream",
     "text": [
      "Bajo peso\n"
     ]
    }
   ],
   "source": [
    "peso = 63\n",
    "altura =1.85\n",
    "IMC=peso/altura**2\n",
    "if IMC < 18.5:\n",
    "    print(\"Bajo peso\")\n",
    "elif IMC >= 18.5 and IMC <= 24.9:\n",
    "    print(\"Peso normal\")\n",
    "elif IMC >= 25 and IMC <= 29.9:\n",
    "    print(\"Sobrepeso\")\n",
    "else:\n",
    "    print(\"Obesidad\")"
   ]
  },
  {
   "cell_type": "markdown",
   "metadata": {},
   "source": [
    "#12 Calcular el mayor de tres números\n",
    "\n",
    "Descripción: Dados tres números, encuentra el mayor entre ellos."
   ]
  },
  {
   "cell_type": "code",
   "execution_count": 47,
   "metadata": {},
   "outputs": [
    {
     "name": "stdout",
     "output_type": "stream",
     "text": [
      "El número mayor en x3\n"
     ]
    }
   ],
   "source": [
    "x1 = 10\n",
    "x2 = 600\n",
    "x3 = 2000\n",
    "if x1 > x2 and x1 >x3:\n",
    "    print(\"El número mayor es x1\")\n",
    "elif x2 > x1 and x2>x3:\n",
    "   print(\"El número mayor es x2\")\n",
    "else:\n",
    "    print(\"El número mayor en x3\")\n"
   ]
  },
  {
   "cell_type": "markdown",
   "metadata": {},
   "source": [
    "##BONUS sentencias de control: Verificar la validez de una fecha\n",
    "\n",
    "Descripción: Dados el día, el mes y el año de una fecha, verifica si la fecha es válida.\n"
   ]
  },
  {
   "cell_type": "code",
   "execution_count": 3,
   "metadata": {},
   "outputs": [
    {
     "name": "stdout",
     "output_type": "stream",
     "text": [
      "El día es correcto\n",
      "El mes es correcto\n",
      "El año no existe\n"
     ]
    }
   ],
   "source": [
    "dia = 27\n",
    "if dia > 31 or dia==0:\n",
    "    print(\"El día no existe\")\n",
    "else:\n",
    "    print(\"El día es correcto\")\n",
    "mes = 12\n",
    "if mes > 12 or mes==0:\n",
    "    print(\"El mes no existe\")\n",
    "else:\n",
    "    print(\"El mes es correcto\")\n",
    "año = 20232\n",
    "if año > 2025 or año <= 1700:\n",
    "    print(\"El año no existe\")\n",
    "else:\n",
    "    print(\"El año es correcto\")\n",
    "\n"
   ]
  },
  {
   "cell_type": "markdown",
   "metadata": {},
   "source": [
    "Ejercicios while\n",
    "Calcular la suma de los primeros 10 números naturales utilizando un bucle while\n",
    "\n",
    "Descripción: Utiliza un bucle while para calcular la suma de los primeros 10 números naturales (1 + 2 + 3 + ... + 10).\n",
    "\n",
    "Juego de adivinanza utilizando un bucle while\n",
    "\n",
    "Descripción: Crea un juego de adivinanza en el que el jugador tiene que adivinar un número secreto (tendrá que ser entre el 0 y el 10). \n",
    "Utiliza un bucle while para permitir múltiples intentos hasta que el jugador adivine correctamente."
   ]
  },
  {
   "cell_type": "code",
   "execution_count": null,
   "metadata": {},
   "outputs": [],
   "source": []
  }
 ],
 "metadata": {
  "kernelspec": {
   "display_name": "base",
   "language": "python",
   "name": "python3"
  },
  "language_info": {
   "codemirror_mode": {
    "name": "ipython",
    "version": 3
   },
   "file_extension": ".py",
   "mimetype": "text/x-python",
   "name": "python",
   "nbconvert_exporter": "python",
   "pygments_lexer": "ipython3",
   "version": "3.12.7"
  }
 },
 "nbformat": 4,
 "nbformat_minor": 2
}
